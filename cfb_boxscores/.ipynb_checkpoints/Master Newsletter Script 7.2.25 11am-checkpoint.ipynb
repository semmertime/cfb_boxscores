{
 "cells": [
  {
   "cell_type": "code",
   "execution_count": 1,
   "id": "49d7f8d0-1976-4276-a3eb-09f13be90d30",
   "metadata": {},
   "outputs": [],
   "source": [
    "import pandas as pd\n",
    "import numpy as np\n",
    "from email.mime.multipart import MIMEMultipart\n",
    "from email.mime.text import MIMEText\n",
    "from email.mime.image import MIMEImage\n",
    "import os\n",
    "from datetime import datetime, timedelta\n",
    "import smtplib\n",
    "\n",
    "# === CONFIG ===\n",
    "NEWSLETTER_TYPE = 'Big Ten'  # Options: 'Big Ten', 'Big 12', 'ACC', 'SEC', 'Top 25', 'Ranked GO5'\n",
    "DATE_OVERRIDE = None         # 'YYYY-MM-DD' for testing, else None for yesterday\n",
    "RECIPIENTS = [\"will.semmer@gmail.com\"]\n",
    "SENDER = \"will.semmer@gmail.com\"\n",
    "SMTP_USER = \"will.semmer@gmail.com\"\n",
    "SMTP_PASSWORD = \"lzdf ngyw lvqg trlv\"  # <-- put yours here\n",
    "SMTP_SERVER = \"smtp.gmail.com\"\n",
    "SMTP_PORT = 465\n",
    "\n",
    "MASTER_DATA_PATH = 'master_newsletter_v2.csv'\n",
    "TEAM_LOGO_LOOKUP_PATH = 'download.csv'\n",
    "LOGO_BASE = 'logos'\n"
   ]
  },
  {
   "cell_type": "code",
   "execution_count": 2,
   "id": "932a6009-1e20-445a-85f1-df4e5465800b",
   "metadata": {},
   "outputs": [],
   "source": [
    "# Helper: get yesterday or override date as string\n",
    "def get_newsletter_date(date_override=None):\n",
    "    if date_override:\n",
    "        return date_override\n",
    "    else:\n",
    "        return (datetime.now() - timedelta(days=1)).strftime('%Y-%m-%d')\n",
    "\n",
    "# Filtering logic based on newsletter type\n",
    "def filter_games(df, newsletter_type):\n",
    "    if newsletter_type in ['Big Ten', 'Big 12', 'ACC', 'SEC']:\n",
    "        return df[(df['Home_Conference'] == newsletter_type) | (df['Away_Conference'] == newsletter_type)].copy()\n",
    "    elif newsletter_type == 'Top 25':\n",
    "        return df[(df['Home_Rank'].notnull() & (df['Home_Rank'] <= 25)) |\n",
    "                  (df['Away_Rank'].notnull() & (df['Away_Rank'] <= 25))].copy()\n",
    "    elif newsletter_type == 'Ranked GO5':\n",
    "        go5 = [\"American Athletic\", \"Conference USA\", \"MAC\", \"Mountain West\", \"Sun Belt\"]\n",
    "        return df[((df['Home_Conference'].isin(go5) | df['Away_Conference'].isin(go5))) &\n",
    "                  ((df['Home_Rank'].notnull() & (df['Home_Rank'] <= 25)) |\n",
    "                   (df['Away_Rank'].notnull() & (df['Away_Rank'] <= 25)))].copy()\n",
    "    else:\n",
    "        raise ValueError(f\"Unknown newsletter type: {newsletter_type}\")\n"
   ]
  },
  {
   "cell_type": "code",
   "execution_count": null,
   "id": "07a1319e-e7af-461b-892e-1ba0189e1357",
   "metadata": {},
   "outputs": [],
   "source": []
  }
 ],
 "metadata": {
  "kernelspec": {
   "display_name": "Python 3 (ipykernel)",
   "language": "python",
   "name": "python3"
  },
  "language_info": {
   "codemirror_mode": {
    "name": "ipython",
    "version": 3
   },
   "file_extension": ".py",
   "mimetype": "text/x-python",
   "name": "python",
   "nbconvert_exporter": "python",
   "pygments_lexer": "ipython3",
   "version": "3.12.7"
  }
 },
 "nbformat": 4,
 "nbformat_minor": 5
}
